{
 "cells": [
  {
   "cell_type": "markdown",
   "metadata": {},
   "source": [
    "# Building components for ML pipelines!\n",
    "\n",
    "In this material we want to teach others how to create ML pipeline components. The material includes 6 sections each detailing one part of the process. We will provide both materials on the tools used in the process as well as some concrete examples on how to complete each step of the process. We hope that with this material, creating ML pipeline components will become more available, even for people without experise in the ML field. Using the AI builder platform, these components can then be shared and combined to create new pipelines.\n",
    "\n"
   ]
  }
 ],
 "metadata": {
  "language_info": {
   "name": "python"
  }
 },
 "nbformat": 4,
 "nbformat_minor": 2
}
