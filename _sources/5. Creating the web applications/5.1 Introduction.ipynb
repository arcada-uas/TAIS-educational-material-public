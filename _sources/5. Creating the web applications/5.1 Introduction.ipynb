{
 "cells": [
  {
   "cell_type": "markdown",
   "metadata": {},
   "source": [
    "# Introduction\n",
    "\n",
    "In this section, we'll create web applications for the data and testing components of our pipeline using Flask, a lightweight and flexible Python web framework. If you're unfamiliar with Flask, it may be helpful to review the [Flask documentation](https://flask.palletsprojects.com/en/3.0.x/) before proceeding.\n",
    "\n",
    "The primary goal of these web applications is to provide user interaction with the pipeline, although they are not strictly necessary for its operation. This means you don't need to create a web application for every component—only those that will enhance user experience and provide better control over the pipeline.\n",
    "\n",
    "For this project, we've chosen to create a web application for the data component, allowing users to upload a CSV file of their choice. Additionally, the testing component's web application will present the results of the pipeline to the user.\n",
    "\n",
    "Since these web applications are optional and can be implemented in various ways, we'll focus less on the underlying code and more on how to connect them to the server and integrate them into the pipeline as a unified component.\n"
   ]
  }
 ],
 "metadata": {
  "language_info": {
   "name": "python"
  }
 },
 "nbformat": 4,
 "nbformat_minor": 2
}
