{
 "cells": [
  {
   "cell_type": "markdown",
   "metadata": {},
   "source": [
    "# Containerization\n",
    "\n",
    "To deploy our code on the AI Builder platform and produce a solution.zip file, containerization of our service or application is required. Docker is the chosen tool for this process.\n",
    "\n",
    "## What is a container?\n",
    "\n",
    "A container is a lightweight, portable, and self-sufficient environment that includes everything needed to run a piece of software. Think of it as a box that contains an application and all its dependencies, ensuring it runs consistently across different environments. Because containers include all necessary libraries, tools, and configurations, the application will behave the same way, whether it's on a developer's laptop, in a test environment, or in production.\n",
    "\n",
    "> *Imagine you have a special lunchbox. This lunchbox has everything you need for lunch: your sandwich, drink, utensils, napkin, and even a little plate. No matter where you take this lunchbox—home, school, work—you always have everything you need for lunch, and it’s always the same.*\n",
    "\n",
    "In software terms:\n",
    "\n",
    "Your lunchbox = Container\n",
    "The sandwich, drink, utensils, etc. = Application and its dependencies"
   ]
  },
  {
   "cell_type": "markdown",
   "metadata": {},
   "source": [
    "## Containerization using Docker\n",
    "Containerization involves encapsulating an application and all its dependencies into a self-contained unit known as a container. This process begins by defining the application's environment and specifying its dependencies, including libraries, frameworks, and runtime components.\n",
    "\n",
    "Docker is a powerful platform that facilitates the building, running, and management of containers across various environments, including servers and the cloud. It enables developers to package an application and its dependencies into a standardized unit called a container.\n",
    "\n",
    "When using Docker for containerization, developers typically create a Dockerfile, a configuration file that outlines the steps required to build the container image. This Dockerfile specifies the base image, copies the application code, and configures any additional settings or dependencies necessary for the application's operation.\n",
    "\n",
    "Below is a basic overview of the containerization process using Docker. The process involves writing a Dockerfile based on the application. A Dockerfile is a text file containing a series of instructions for assembling a Docker image. A Docker image is a lightweight, standalone, and executable package that includes everything needed to run a piece of software, such as code, runtime, libraries, and dependencies. The Docker image serves as a template for creating Docker containers, which are instances of Docker images running as isolated processes on the host machine. Together, Dockerfiles, Docker images, and Docker containers ensure consistent and efficient application deployment across different environments.\n",
    "\n",
    "![Docker image](./pic5.1.1.png)\n",
    "\n",
    "With Docker, you can use the Docker build command to build the container image based on the instructions provided in the Dockerfile. Docker provides a simple and efficient way to build, distribute, and run containerized applications, making it a popular choice for containerization.\n",
    "\n",
    "## Writing a dockerfile\n",
    "Here is an example Dockerfile:"
   ]
  },
  {
   "cell_type": "markdown",
   "metadata": {},
   "source": [
    "```Dockerfile\n",
    "# Use an official Node.js runtime as the base image\n",
    "FROM node:14\n",
    "\n",
    "# Set the working directory inside the container\n",
    "WORKDIR /app\n",
    "\n",
    "# Copy package.json and package-lock.json to the working directory\n",
    "COPY package*.json ./\n",
    "\n",
    "# Install dependencies using npm\n",
    "RUN npm install\n",
    "\n",
    "# Copy the rest of the application code to the working directory\n",
    "COPY . .\n",
    "\n",
    "# Expose port 3000 to the outside world\n",
    "EXPOSE 3000\n",
    "\n",
    "# Define the command to run the application when the container starts\n",
    "CMD [\"node\", \"app.js\"]\n"
   ]
  },
  {
   "cell_type": "markdown",
   "metadata": {},
   "source": [
    "This simple Dockerfile outlines the following steps:\n",
    "\n",
    "- FROM node:14: Specifies the base image for the Dockerfile, in this case, the official Node.js image with version 14.\n",
    "- WORKDIR /app: Sets the working directory inside the container, where subsequent commands will be executed.\n",
    "- COPY package.json ./**: Copies the package.json and package-lock.json files from the host machine to the /app directory inside the container, facilitating dependency caching during the build process.\n",
    "- RUN npm install: Executes npm install inside the container to install the required dependencies.\n",
    "- COPY . .: Copies the rest of the application code into the container.\n",
    "- EXPOSE 3000: Documents that the container will listen on port 3000 at runtime.\n",
    "- CMD [\"node\", \"app.js\"]: Defines the command to run the application when the container starts.\n",
    "\n",
    "Although this Dockerfile is designed for a Node.js application, the procedure remains similar when working with other languages, such as Python.\n",
    "\n",
    "\n",
    "Now that we know a bit more about docker, we are ready to apply our knowledge on our example pipeline!\n",
    "\n"
   ]
  }
 ],
 "metadata": {
  "kernelspec": {
   "display_name": "Python 3",
   "language": "python",
   "name": "python3"
  },
  "language_info": {
   "codemirror_mode": {
    "name": "ipython",
    "version": 3
   },
   "file_extension": ".py",
   "mimetype": "text/x-python",
   "name": "python",
   "nbconvert_exporter": "python",
   "pygments_lexer": "ipython3",
   "version": "3.11.9"
  }
 },
 "nbformat": 4,
 "nbformat_minor": 2
}
