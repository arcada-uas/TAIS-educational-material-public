{
 "cells": [
  {
   "cell_type": "markdown",
   "metadata": {},
   "source": [
    "# Introduction\n",
    "\n",
    "This material aims at providing a straight forward and easy way to learn how to create machine learning pipelines consisting of different components, or micro services, and deploying such pipelines using the AI builder tools. We want to provide a comprehensive guide, especially for creating such components so that more people can effectivly utilize the services and tools provided by AI builder. This will be done through materials on the necessary technologies and tools, combined with an example with step-by-step instructions. \n",
    "\n",
    "To get a better general idea of how the end product should work and the structure of it, let's first look at the basic idea of a pipeline consisting of components. \n",
    "\n",
    "A machine learning pipeline is something that automates the workflow it takes to produce a machine learning model. Such a pipeline ususally include specific steps, such as data collection and labeling, model training and evaluation as well as deployment of the model. We want to split these steps into different microservices, or components. Each component should be responsible for one step of the pipeline. When the components are connected together, you would get the full pipeline which would create one specific ML model. \n",
    "\n",
    "![Simple Pipeline Architecture](./pic1.1.1.png)\n",
    "\n",
    "\n",
    "In the graph above you can see a diagram of a basic pipeline. Notice how the output from one component becomes the input for the next. For example, the cleaned data, which is the output of the data collection component, also is the input for the next component, the data labeling component. This means that there needs to be communication between the different components.\n",
    "\n",
    "If you want to deploy your pipeline using the AI builder tools, you do not need to worry about how the communication between the different components happens. The platform takes care of this for you! All you have to do is to make sure that the output of the previous component matches the input for the next.\n",
    "\n",
    "If you on the other hand do not want to use the AI builder tools for deployment, you are going to need another way to connect the sevices together. This will also be briefly discussed in this material, but it is not the main focus. \n",
    "\n",
    "The idea behind splitting the pipeline into different components is to then create a library of components. These components could then be connected in different ways to create different pipelines and therefor different models. This can be done using the AI builder platform. Once the components have been created they can be uploaded to the AI builder platform where they can be connected together to create the pipeline. Once they are connected you can choose to deploy it either through the website or locally using the playground app that is part of the AI builder project. \n",
    "\n",
    "![creation of pipeline](./pic1.1.2.png)\n",
    "\n",
    "Above you can see a basic graph of the process of deploying the pipeline using the AI builder tools. You will need to create each service, upload them to the AI builder website where they can be connected and deployed. The will be deployed using something called a \"playground\" where you can interact with the pipeline. The playground takes care of the communication between the components. \n",
    "\n",
    "Following these steps and creating a pipeline requires knowledge of quite a few technologies and tools. We have compiled a list of the technologies and tools we will be using in the example provided in this material. Some of the tools have been chosen because they are a requirement for uploading the components to the AI builder website. The tools and technologies we will be using include the following:\n",
    "\n",
    "- Python\n",
    "- Javascript \n",
    "- Virtual Environments\n",
    "- Machine Learning\n",
    "- Flask\n",
    "- HTML\n",
    "- CSS\n",
    "- **Protocol Buffers**\n",
    "- **gRPC**\n",
    "- **Containerization**\n",
    "- **Docker**\n",
    "- Microservices\n",
    "- SSL\n",
    "- Postman\n",
    "- Highcharts\n",
    "- **Kubernetes**\n",
    "- Rahti\n",
    "\n",
    "\n",
    "To better understand how to build the components that make up pipelines, we will give some basic insights into the bolded required technologies and how they work. We will also provide an example with step by step instructions where we can provide instructions for how to use the other technologies."
   ]
  }
 ],
 "metadata": {
  "kernelspec": {
   "display_name": "Python 3",
   "language": "python",
   "name": "python3"
  },
  "language_info": {
   "name": "python",
   "version": "3.11.9"
  }
 },
 "nbformat": 4,
 "nbformat_minor": 2
}
