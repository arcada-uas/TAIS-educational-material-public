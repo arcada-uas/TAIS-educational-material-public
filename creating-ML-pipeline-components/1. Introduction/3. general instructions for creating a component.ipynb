{
 "cells": [
  {
   "cell_type": "markdown",
   "metadata": {},
   "source": [
    "# Creating a component\n",
    "\n",
    "We will soon move onto the provided example on how to create a pipeline, but before we do so, it is important to have a good overview of the necessary steps. In this file we will briefly explain the steps necessary to create a component. The goal is to create a clear overview of the entire process, and therefor we will not go in depth into exactly what each step entails in practicality, but rather the reason behind the step and the outcome. \n",
    "\n",
    "In order to create a component which could be deployed using the AI on demand tools, you will need to write the necessary functions in a service file, create a proto file based on the services provided, generate the gRPC code and implement the client and the server and lastly implement a web application if you wish the component to have one. All of this should then be containerized and the container image (Docker image) can then be uploaded to dockerhub. From there you can upload the dockerimage together with the protofile to the AI builder platform. This will create a component which can be used as part of a pipeline. We will now go more in depth into how to complete these steps. \n",
    "\n",
    "In these steps it is assumed that you already have identified your problem, objectives and deliverable items, as well as planned what components to create and what their input and outputs are, and you're now ready to start coding.\n",
    "\n",
    "\n",
    "## 1. Writing the service\n",
    "\n",
    "First you should know what kind of service you want or need. This could be for example data filtering, model training, making predictions etc. Once you have decided on the service you can pick any language supported by protobuffers that's suitable to implement the necessary functions. Protobuffers support C++, C#, Dart, Go, Java, Kotlin, Objective-C, Python and Ruby. The service should consists of one or many different functions that take some input and produce an output. \n",
    "\n",
    "One example of a service in this case could be a function clean_data that would take some raw data and reformat it so that it is in a fitting format for the next component. Now you might notice why it is so important to define the inputs and outputs of all the components before starting with the coding. \n",
    "\n",
    "Before comtinuing it is important that you test your service. This way you can ensure that the service works as expected and can confidently move on to the next step.\n",
    "\n",
    "At this stage, testing can be done by simply calling the service functions that you have defined and for example printing the result. You can also develop unit tests with values that you know the result of.\n",
    "\n",
    "## 2. Make a proto file\n",
    "\n",
    "Once you have tested your service and assured that everything works as expected, you're ready to define the protofile based on the functions. This will also later be explained in more detail, but as a general idea you need to take into consideration the data that is necessary in order to use the functions you have implemented. You should define the necessary message structures as well as the service that will be provided. \n",
    "\n",
    "## 3. Generate gRPC code\n",
    "\n",
    "Once you have defined the protofile you can use it to generate the necessary gRPC code for your service. The process of generating the code as well as the resulting code will differ depending on the language you have chosen for your application. As mentioned in the gRPC notebook later on, the generated code will contain code for the service interface as well as the grpc-client and -server.\n",
    "\n",
    "## 4. Implement the grpc server\n",
    "\n",
    "Next you will need to implement the grpc-server using the generated gRPC code. The server should implement the services defined in the protofile. Since you already defined the functions when creating the service, you can simply import the functions. You just need to make sure to return the returnvalue in the correct way, following the messages you defined in the protofile.\n",
    " \n",
    "Again, it is important that you test your application before continuing with the next step. You can test the grpc-server by defining a grpc client which can call the functions available on the server. The client should call the different methods available at the server. This way you can test if all the functions on the server side works as expected, and if the communication also works properly.\n",
    "\n",
    "## 5. write the web application\n",
    "\n",
    "If you would like for the component to have a web ui, you will need to also implement it. It might be good to, for example, have a web ui which allows the user to interact with the pipeline in some way or see the result, such as the predicted values for example. Since both the web application and the server will be containerized into one container, you will also have to make sure that both can be started with only one command. \n",
    "\n",
    "When you have implemented your web application you need to again test it before moving on. You can start by testing the web application on its own and then test it in combination with the server. \n",
    "\n",
    "## 6. Conatinerize the component\n",
    "\n",
    "Next you can create the dockerfile. You will need to copy over the necessary code, run installation commands and write an entrypoint command. After having written the dockerfile you can build the docker image. Once the docker image has been built you can run it either through the command line or using docker desktop to test that everything still works as expected. \n",
    "\n",
    "## Conclusion\n",
    "These are the steps to create a pipeline and also the part of the process that this material will focus on the most. Before moving on the more indepth instructions and the example on how to create these components, we still need to prepare our environment. \n"
   ]
  }
 ],
 "metadata": {
  "kernelspec": {
   "display_name": "Python 3",
   "language": "python",
   "name": "python3"
  },
  "language_info": {
   "name": "python",
   "version": "3.11.9"
  }
 },
 "nbformat": 4,
 "nbformat_minor": 2
}
