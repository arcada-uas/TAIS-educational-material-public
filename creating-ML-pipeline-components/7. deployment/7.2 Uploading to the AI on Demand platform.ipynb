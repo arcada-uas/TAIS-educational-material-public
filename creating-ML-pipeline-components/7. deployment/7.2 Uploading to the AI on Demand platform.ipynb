{
 "cells": [
  {
   "cell_type": "markdown",
   "metadata": {},
   "source": [
    "# Uploading your components to the AI on Demand platform"
   ]
  }
 ],
 "metadata": {
  "language_info": {
   "name": "python"
  }
 },
 "nbformat": 4,
 "nbformat_minor": 2
}
