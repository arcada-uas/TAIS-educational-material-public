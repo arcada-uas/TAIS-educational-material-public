{
 "cells": [
  {
   "cell_type": "markdown",
   "metadata": {},
   "source": [
    "# Building components for ML pipelines!\n",
    "\n",
    "In this material we want to teach others how to create ML pipeline components. The material includes 6 sections each detailing one part of the process. We will provide both materials on the tools used in the process as well as some concrete examples on how to complete each step of the process. We hope that with this material, creating ML pipeline components will become more available, even for people without experise in the ML field. Using the AI builder platform, these components can then be shared and combined to create new pipelines.\n",
    "\n"
   ]
  }
 ],
 "metadata": {
  "language_info": {
   "codemirror_mode": {
    "name": "ipython",
    "version": 3
   },
   "file_extension": ".py",
   "mimetype": "text/x-python",
   "name": "python",
   "nbconvert_exporter": "python",
   "pygments_lexer": "ipython3",
   "version": "3.11.9"
  }
 },
 "nbformat": 4,
 "nbformat_minor": 2
}