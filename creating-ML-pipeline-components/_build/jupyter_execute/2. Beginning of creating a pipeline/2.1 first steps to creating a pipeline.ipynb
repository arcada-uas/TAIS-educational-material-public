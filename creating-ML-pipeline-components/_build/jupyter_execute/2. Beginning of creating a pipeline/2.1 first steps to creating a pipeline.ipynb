{
 "cells": [
  {
   "cell_type": "markdown",
   "metadata": {},
   "source": [
    "# First steps of creatng a pipeline\n",
    "\n",
    "As you may recall, the first steps of creating a pipeline is defining the problem, objectives and deliverable items. So, to start our example on how to create a pipeline that is exactly what we're going to do.\n",
    "\n",
    "The goal of the ML pipeline we want to build is to give a clear and easy example on how to create a ML pipeline. To achieve this, let's try to create as simple of a pipeline as possible, so we won't be including any feedback loops or retraining in this pipeline. The very basic components that we need in order to create a simple model, is data intake and cleaning, model training, model testing and lastly a way to use the model.\n",
    "\n",
    "We have decided to use create a stock price prediction model, as financial data is easy to come by and common to use for model training and testing. To make the example simple and easy to understand we have decided to use a Linear Regression model. \n",
    "\n",
    "We would recommend, that when creating a pipeline you would first create a script that does the necessary steps and creates the model. The reason for this is that then, you will know the necessary code segments and that they work, so later you can focus on getting the communication between the components to work. It might also help with defining the different components if you first have a good understanding of the necessary code. \n",
    "\n",
    "We have written a script that trains and tests a stock price prediction model, and it can be found in the notebook named Stock_Price_Prediction.ipynb. Make sure to familiarize yourself with the script and go through it at least once. \n",
    "\n",
    "You might have noticed that the script first reads data from a csv file, secondly it cleans the data and prepares it for the training. Next the model is trained and lastly it is tested. We have decided to split this script into three components: data cleaning, model training and model testing. \n",
    "\n",
    "Let's now define the input and output of the components. We know that the data components should read a csv file, so it needs to somehow receive the data in the csv file. The components should then clean the data and prepare it for the training. Since we are using a linear regression model, we know that we need to provide two variables to the training component, x and y. We also want to test the model, so the data needs to be split into training and testing data, as the model should be tested on data it has not seen during the training. \n",
    "\n",
    "As for the training component, it needs to get the x and y values for the Linear regression model. The component should then train a model. In order for the next component to test the model it of course needs access to the model itself, so the trained model should be the output of the training component. \n",
    "\n",
    "Lastly the testing component should get the model and test it somehow. The output should then be the result of the test or tests. In our case we test the prediction both visually and by calculating the RMSE value, so both the produced graph and the RMSE value should be returned. \n",
    "\n",
    "![simple pipeline](./pic2.1.1.png)\n",
    "\n",
    "Now it is important to consider the end goal. How will the pipeline be used and in what environment? This will decide for example how the plot should be returned and displayed. In our case, we will later create a web application from which you can go through the pipeline. We want to display the created graph on the web page. We need to also take into consideration that the different components should be able to run independently on different machines, so we can't simply use the plt.show() functiona as in the stock_price prediction script, but rather we will need to send the plot form the testing component to the web application so that it can be displayed. \n",
    "\n",
    "Since the creation process includes a lot of different steps, it is very important that you have a clear understanding of exactly what the end product should be. If you later in the process need to change something it will require a lot of extra work, so make sure you know exaclty what you want to create!\n"
   ]
  }
 ],
 "metadata": {
  "language_info": {
   "codemirror_mode": {
    "name": "ipython",
    "version": 3
   },
   "file_extension": ".py",
   "mimetype": "text/x-python",
   "name": "python",
   "nbconvert_exporter": "python",
   "pygments_lexer": "ipython3",
   "version": "3.11.9"
  }
 },
 "nbformat": 4,
 "nbformat_minor": 2
}