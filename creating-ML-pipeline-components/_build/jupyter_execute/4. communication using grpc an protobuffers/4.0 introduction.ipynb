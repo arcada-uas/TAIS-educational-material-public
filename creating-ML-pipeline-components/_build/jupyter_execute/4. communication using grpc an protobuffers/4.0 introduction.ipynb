{
 "cells": [
  {
   "cell_type": "markdown",
   "metadata": {},
   "source": [
    "# Introduction\n",
    "\n",
    "Now we have learned about and created the web applications for the components, as well as tested that they work as expected. Next we will move on to the next step which is to enable the components to communicate using grpc and protobuffers. This process can be a bit confusing as it includes a lot of steps, such as writing a protofile, generating the grpc code and writing the grpc server and client using the generated code. This process is also something that might be unknown to a lot of people. Therefor we have provided some basic information about protobuffers as well as grpc before jumping into the example. \n",
    "\n",
    "Make sure to read the materials carefully before proceeding to the example, as this will provide you with more insights into how protobuffers and grpc work, which might help you understand the example better.\n"
   ]
  }
 ],
 "metadata": {
  "language_info": {
   "codemirror_mode": {
    "name": "ipython",
    "version": 3
   },
   "file_extension": ".py",
   "mimetype": "text/x-python",
   "name": "python",
   "nbconvert_exporter": "python",
   "pygments_lexer": "ipython3",
   "version": "3.11.9"
  }
 },
 "nbformat": 4,
 "nbformat_minor": 2
}