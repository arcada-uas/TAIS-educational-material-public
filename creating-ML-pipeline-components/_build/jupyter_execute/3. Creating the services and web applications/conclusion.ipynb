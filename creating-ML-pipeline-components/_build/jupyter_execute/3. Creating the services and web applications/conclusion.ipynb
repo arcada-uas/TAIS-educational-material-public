{
 "cells": [
  {
   "cell_type": "markdown",
   "metadata": {},
   "source": [
    "# Creating the Web Applications: Conclusion\n",
    "\n",
    "Now that we have gone through the example of how to create the web applications, let's go through the process in a more generic way so that you will be able to implement what ever service you are interested in!\n",
    "\n",
    "In the example, we followed these four steps when creating a component:\n",
    "\n",
    "1) Write the service\n",
    "2) Create the app and the main route (and test if you can get it to run)\n",
    "3) Define the route that calls the service function\n",
    "4) test the application\n",
    "\n",
    "When actually implementing the application however, it's not always as striaght forward as this, so here are some tips and things to keep in mind at each step of the process:\n",
    "\n",
    "1) Write the service\n",
    "- Clearly define the input and the output of the service before starting to code\n",
    "- Define the basic idea of what should be done inside the function\n",
    "- If needed, use print statements for debugging\n",
    "\n",
    "2) Create the app and the main route\n",
    "- This step has been split from defining the other routes so that you can set up a very basic app and make sure that you're able to run it. This way you can check that you're environment is correctly set up, and get a basic understandin of whatever web application framework you have decided to work with.\n",
    "\n",
    "3) Define the route that calls the service function\n",
    "- Here it is especially important to think about the data being received or sent from the component. What data is expected? Which data type is it sent as and which data type is expected by the service function. We saw and example of this both with the x_train and x_test lists which were sent as 1D lists but needed to be 2D, as well as the model which was sent as binary and needed to be decoded and deserialized upon arrival.\n",
    "- You will also need to define the route that sends the returned data forward to the next component. Again consider the data and the data types. \n",
    "- Again, printing statements can be good for debugging.\n",
    "\n",
    "4) Test the application\n",
    "- You can use a variety of tools for testing, pick the one that bests suits you\n",
    "- Make sure to test all the routes as well as the communication between the components. \n",
    "- Make sure everything works as expected before continuing to the next component. \n",
    "\n",
    "Now that you have a good understanding of the first step of creating the components, as well as tested that everything works as expected, we can move on to the next chapter, how to connect the components using grpc!\n",
    "\n"
   ]
  }
 ],
 "metadata": {
  "language_info": {
   "codemirror_mode": {
    "name": "ipython",
    "version": 3
   },
   "file_extension": ".py",
   "mimetype": "text/x-python",
   "name": "python",
   "nbconvert_exporter": "python",
   "pygments_lexer": "ipython3",
   "version": "3.11.9"
  }
 },
 "nbformat": 4,
 "nbformat_minor": 2
}