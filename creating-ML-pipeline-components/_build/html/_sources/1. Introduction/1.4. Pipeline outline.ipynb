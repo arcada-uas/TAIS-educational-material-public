{
 "cells": [
  {
   "cell_type": "markdown",
   "metadata": {},
   "source": [
    "# Creating a Pipeline\n",
    "\n",
    "As discussed, a pipeline in this context refers to a machine learning pipeline consisting of various components, each responsible for different aspects of the machine learning process. To successfully create and connect these components to form the final pipeline, it is crucial to have a fundamental understanding of the technologies and tools involved.\n",
    "\n",
    "Some of these technologies and tools are required to deploy the components using AI Builder tools. Key technologies include Protocol Buffers (protobuf), gRPC, and Docker.\n",
    "\n",
    "Each component will include a gRPC server that provides functions corresponding to its specific task, such as data cleaning or model creation. Additionally, components may incorporate a web application for user interaction, although this is not mandatory. All necessary code, including server code, service implementation, and any web applications, will be containerized into a single Docker container.\n",
    "\n",
    "To create a gRPC server, you must first write a `.proto` file defining the data structures and service functions. This proto file, along with the Docker container, will be uploaded to the AI Builder platform. The proto files facilitate the connection between different gRPC servers.\n",
    "\n",
    "The following graph expands on the process of creating and deploying a pipeline, illustrating how each component contains specific files and how the Playground orchestrates gRPC requests and responses between servers.\n",
    "\n",
    "![pipeline creation graph](./pic1.2.1.PNG)\n",
    "\n",
    "The steps to create a pipeline are as follows:\n",
    "\n",
    "## 1. Identify the Problem, Objectives, and Deliverables\n",
    "\n",
    "The initial step in creating a pipeline is to define the problem and the objectives of the pipeline. Understanding your requirements will guide you in determining the necessary components and their implementation. Clearly defining the problem and objectives helps identify the deliverables and provides a clearer understanding of the tools and technologies required for planning.\n",
    "\n",
    "## 2. Create the Pipeline Outline\n",
    "\n",
    "Next, outline the number and function of the components required. Decide on additional technologies, such as programming languages, needed for the components. Defining each component’s inputs and outputs is critical, as these connections facilitate the pipeline's flow. For example, the output of a data cleaning component serves as the input for a training component. Clearly defining these inputs and outputs simplifies the coding process by clarifying component expectations.\n",
    "\n",
    "## 3. Implement the Components\n",
    "\n",
    "The third step involves implementing the components, including writing service code, testing the services, creating proto files, generating and integrating gRPC code, and potentially developing web applications. Containerize the components using Docker. The implementation process is technical and involves multiple steps, which are covered in detail in this material.\n",
    "\n",
    "Careful testing of each component is essential before deploying the pipeline to ensure functionality and simplify debugging. Testing throughout the development process is crucial for a reliable solution, and we will cover testing procedures in detail.\n",
    "\n",
    "## 4. Upload the Docker Images\n",
    "\n",
    "After verifying that all components function correctly, containerize the applications and upload them to Docker Hub. Define a Dockerfile for each component to facilitate this process. Uploading to Docker Hub streamlines the subsequent upload of components to the AI Builder platform.\n",
    "\n",
    "## 5. Connect the Components in AI Builder\n",
    "\n",
    "Once components are uploaded to Docker Hub, use the AI Builder platform to upload and connect them. This process creates a deployable pipeline, which can be deployed directly from the platform or downloaded as a `solution.zip` file for local deployment using the Playground app.\n",
    "\n",
    "## 6. Run the Pipeline\n",
    "\n",
    "The pipeline can be deployed and ran through the AI on Demand website.\n"
   ]
  }
 ],
 "metadata": {
  "kernelspec": {
   "display_name": "Python 3",
   "language": "python",
   "name": "python3"
  },
  "language_info": {
   "name": "python",
   "version": "3.11.9"
  }
 },
 "nbformat": 4,
 "nbformat_minor": 2
}
