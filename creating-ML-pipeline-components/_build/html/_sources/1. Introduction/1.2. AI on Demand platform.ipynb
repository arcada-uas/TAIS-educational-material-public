{
 "cells": [
  {
   "cell_type": "markdown",
   "metadata": {},
   "source": [
    "# Overview of the AI4EU Experiments Platform\n",
    "\n",
    "The AI4EU On-Demand Platform (https://aiexp-dev.ai4europe.eu/#/home) is designed to democratize access to artificial intelligence (AI) and machine learning (ML). It provides a user-friendly and extensible marketplace for reusable AI solutions. These solutions, which come from a variety of AI toolkits and programming languages, are made accessible to developers who may not be experts in AI or data science, enabling them to create their own AI-driven applications. The platform is particularly notable for its ability to integrate and deploy AI models as modular components, simplifying the process for users to build, train, and deploy AI pipelines without deep technical expertise. The components that are part of the provided example in this material will be made following the guidelines for compatibility with the platform.\n",
    "\n",
    "## Purpose of the AI4EU Experiments Platform\n",
    "\n",
    "The primary purpose of the AI4EU Experiments platform is to facilitate the creation, sharing, and deployment of AI solutions in a highly modular and interoperable manner. By offering a catalog of AI models and tools, the platform allows users to compose these elements into pipelines that can perform complex AI tasks. This is achieved through a visual pipeline editor that simplifies the process, making it accessible to a wide range of users, including those who may not have a technical background.\n",
    "\n",
    "This platform will be instrumental in the deployment of the components discussed throughout this material. It not only dictates some of the tools used during the development of these components but also ensures that the AI models and pipelines created can be efficiently deployed in a variety of environments. The platform supports a wide range of AI and machine learning tasks, from data preprocessing and model training to model deployment and inference. It is designed to be flexible, supporting different execution environments and allowing models to be deployed close to the data they need to process, which is particularly important for handling large datasets or sensitive information.\n",
    "\n",
    "## System Architecture\n",
    "\n",
    "The AI4EU Experiments platform is built on a microservice architecture, derived from the Acumos AI project. This architecture is designed for scalability, reliability, and ease of integration, leveraging Kubernetes for container orchestration and management. The platform’s architecture is divided into several key components:\n",
    "\n",
    "- **Portal-Marketplace**: This web-based user interface allows users to browse, publish, and manage AI models and solutions. It serves as the entry point for users to access the catalog of AI resources.\n",
    "\n",
    "- **Design-Studio**: A JavaScript-based application that provides a visual interface for composing AI pipelines. Users can drag and drop different models and tools to create complex AI workflows without needing to write code.\n",
    "\n",
    "- **Onboarding Service**: This backend service handles the onboarding of new AI models and tools into the platform. It provides APIs for developers to upload and register their models, making them available in the catalog.\n",
    "\n",
    "- **Common-Data-Service**: This service manages the persistent catalog of AI resources, storing metadata and references to models, datasets, and other resources.\n",
    "\n",
    "- **Kubernetes-Client**: This component is responsible for deploying AI models and pipelines into the execution environments. It generates the necessary Kubernetes configurations based on the pipeline definitions.\n",
    "\n",
    "- **Federation Service**: This allows for the interconnection of multiple AI4EU instances, enabling the exchange of models and solutions across different platforms.\n",
    "\n",
    "## Conclusion\n",
    "\n",
    "The AI4EU Experiments platform is a powerful tool for making AI accessible and usable by a wide audience. Its modular design, based on a microservice architecture, allows for the flexible composition and deployment of AI solutions, making it easier for non-experts to harness the power of AI. By providing a marketplace of re-usable AI components and supporting a wide range of execution environments, AI4EU Experiments plays a crucial role in advancing the adoption and integration of AI technologies across various industries. The platform will also be the environment where the components developed in this material are deployed.\n"
   ]
  }
 ],
 "metadata": {
  "language_info": {
   "name": "python"
  }
 },
 "nbformat": 4,
 "nbformat_minor": 2
}
