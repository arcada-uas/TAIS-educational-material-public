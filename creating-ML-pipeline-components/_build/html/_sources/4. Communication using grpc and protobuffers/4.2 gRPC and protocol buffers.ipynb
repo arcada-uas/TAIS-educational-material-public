{
 "cells": [
  {
   "cell_type": "markdown",
   "metadata": {},
   "source": [
    "# gRPC and Protocol Buffers\n",
    "\n",
    "gRPC is a high-performance, open-source framework for remote procedure calls (RPCs) that allows client applications to call methods on server applications as if they were local, even when they are deployed on different machines. It is widely used for building distributed systems and microservices due to its efficiency, flexibility, and ease of use.\n",
    "\n",
    "With gRPC, services are split into a server and client. The server side hosts and implements the service methods defined in the .proto file and handles incoming requests from clients. The client utilizes stubs to interact with the remote procedure calls. The stub abstracts away the complexities of network communication and allows clients to invoke methods on the remote server as if they were local function calls. \n",
    "gRPC services can be defined in protofiles as discussed in the protocol buffers section. The protofile serves as the contact between the client and the server, ensuring both sides agree on the data structures and available methods. \n",
    "\n",
    "Below you can see a graph that tries to explain how the communication between the client and server works:\n",
    "![grpc graph](./pic4.2.1.png)\n",
    "\n",
    "You can see how the functions are implemented on the server side, and can be reached through the stub on the client side. On the client side, calling the functions works as if the functions were implemented locally. This works because the stub makes a request to the server, and this request is abstracted away to the client. Te stub both handles doing the request and receiving the reponse, so the client can simply call the function as if it was implemented locally. \n",
    "\n",
    "\n",
    "## Code generation\n",
    "\n",
    "Once the protofile is defined, it can be used with the protobuf compiler, protoc, to generate code for the client and the server as well as the defined datastructures. The generated code can generally be divided into three different groups, the service interface, client code and server code. The service interface is an interface or abstract class that defines the methods corresponding to the RPCs you specified in the protofile. The server code actually implements the server interface. The client code consists of a so called stub which provides methods for making requests to the server and handling responses. It abstracts away the the network communication and allows the client to use methods implemented by the server as if they were local. \n",
    "\n",
    "# Using grpc\n",
    "\n",
    "![grpc code graph](./pic4.2.2.png)\n",
    "\n",
    "In the image above, you can see a graph explaining the different parts necessary to utilize grpc. Moving from the top to bottom, you first need to define the service where all server functions will be implemented. If we think about the example we went through in the previous chapter, we already created the services for the components. For example, the data service contains the clean_data function. \n",
    "\n",
    "Once the service is defined, you can write the protofile. When writing the protofile you need to know which functions should be available as RPC methods, as well as their input and output. You can then define proto messages based on the input and output, and the service with all it's functions.\n",
    "\n",
    "The protofile is the used to generate code both for the clinet and the server. This code will be available in the pb2 and pb2_grpc files. The generated code can the be used to create the client and the server. \n",
    "\n",
    "Hopefully you now have a better insight into grpc and protobuffers, and are ready for the example!"
   ]
  }
 ],
 "metadata": {
  "kernelspec": {
   "display_name": "Python 3",
   "language": "python",
   "name": "python3"
  },
  "language_info": {
   "name": "python",
   "version": "3.11.9"
  }
 },
 "nbformat": 4,
 "nbformat_minor": 2
}
