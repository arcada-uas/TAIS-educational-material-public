{
 "cells": [
  {
   "cell_type": "markdown",
   "metadata": {},
   "source": [
    "# Deployment Using the AI on Demand Platform\n",
    "\n",
    "Deploying the pipeline is streamlined through the AI on Demand platform. Ensure that you have successfully uploaded all necessary components via the onboarding page before proceeding. Before proceeding make sure to create an EU account at this website: https://webgate.ec.europa.eu/cas/eim/external/register.cgi . Follow these steps to complete the deployment:\n",
    "\n",
    "1. Navigate to the **\"Design Studio\"** page using the menu on the left-hand side.\n",
    "2. In the **\"Marketplace\"** menu, select **Models** and open the folder named **\"other\"**. Here, you should find the components you previously onboarded.\n",
    "3. Drag and drop the components onto the canvas.\n",
    "4. After placing all required components on the canvas, connect the appropriate nodes to construct the full pipeline.\n",
    "5. Save the solution with a descriptive name.\n",
    "6. Validate the solution to proceed to the deployment stage by pressing **\"Validate\"**.\n",
    "7. Open the **\"Deploy for Execution\"** menu and select **\"Preprod Playground\"**.\n",
    "8. Log in using your EU credentials.\n",
    "9. To initiate the pipeline, click the green **\"Run\"** button.\n",
    "10. To view the results, access the web UI for the test component.\n",
    "\n",
    "If the deployment encounters issues, inspect the logs available on the playground to diagnose the problem.\n",
    "\n",
    "Below is a video tutorial that illustrates the entire process:\n",
    "\n",
    "<video controls src=\"../_static/videos/deployment.mp4\" title=\"Deployment Tutorial\"></video>\n",
    "\n",
    "You have now completed the process of creating and deploying a pipeline using the AI on Demand platform. With these instructions, you should be equipped to replicate the process for any pipeline you wish to develop.\n"
   ]
  }
 ],
 "metadata": {
  "language_info": {
   "name": "python"
  }
 },
 "nbformat": 4,
 "nbformat_minor": 2
}
