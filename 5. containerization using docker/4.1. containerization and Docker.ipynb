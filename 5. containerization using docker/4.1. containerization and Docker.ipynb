{
 "cells": [
  {
   "cell_type": "markdown",
   "metadata": {},
   "source": [
    "# Containerization\n",
    "\n",
    "In order to deploy our code to the AI builder platform and produce a solution.zip file, we need to containerize our service (or application). We will be using Docker for the containerization."
   ]
  },
  {
   "cell_type": "markdown",
   "metadata": {},
   "source": [
    "Containerization involves encapsulating an application and its dependencies into a self-contained unit called a container. This process begins by defining the application environment and specifying its dependencies, including libraries, frameworks, and runtime components.\n",
    "\n",
    "In the realm of containerization, Docker serves as a powerful tool for building, running, and managing containers across various environments, including servers and the cloud. Docker is a containerization platform that allows developers to package an application and its dependencies into a standardized unit called a container.\n",
    "\n",
    "Using Docker for containerization, developers create a Dockerfile or a similar configuration file that outlines the steps needed to build the container image. In this Dockerfile, developers specify the base image to use, copy the application code into the image, and configure any additional settings or dependencies required for the application to run.\n",
    "\n",
    "With Docker, you can use the Docker build command to build the container image based on the instructions provided in the Dockerfile. Docker provides a simple and efficient way to build, distribute, and run containerized applications, making it a popular choice for containerization.\n",
    "\n",
    "Let's take a look at a dockerfile:"
   ]
  },
  {
   "cell_type": "markdown",
   "metadata": {},
   "source": [
    "```Dockerfile\n",
    "# Use an official Node.js runtime as the base image\n",
    "FROM node:14\n",
    "\n",
    "# Set the working directory inside the container\n",
    "WORKDIR /app\n",
    "\n",
    "# Copy package.json and package-lock.json to the working directory\n",
    "COPY package*.json ./\n",
    "\n",
    "# Install dependencies using npm\n",
    "RUN npm install\n",
    "\n",
    "# Copy the rest of the application code to the working directory\n",
    "COPY . .\n",
    "\n",
    "# Expose port 3000 to the outside world\n",
    "EXPOSE 3000\n",
    "\n",
    "# Define the command to run the application when the container starts\n",
    "CMD [\"node\", \"app.js\"]\n"
   ]
  },
  {
   "cell_type": "markdown",
   "metadata": {},
   "source": [
    "Above you see a very simple dockerfile. Let's go through the different parts of the file.\n",
    "\n",
    "1. FROM node:14: Specifies the base image for the Dockerfile. In this case, it uses the official Node.js image from Docker Hub with Node.js version 14.\n",
    "2. WORKDIR /app: Sets the working directory inside the container where subsequent commands will be executed. It creates the /app directory if it doesn't exist.\n",
    "3. COPY package*.json ./: Copies the package.json and package-lock.json files from the host machine (where the Dockerfile is located) to the /app directory inside the container. This allows Docker to cache dependencies during the build process.\n",
    "4. RUN npm install: Runs the npm install command inside the container to install dependencies listed in package.json. This step is executed during the image build process.\n",
    "5. COPY . .: Copies the rest of the application code from the host machine to the /app directory inside the container. This includes source code, configuration files, and any other assets required by the application.\n",
    "6. EXPOSE 3000: Informs Docker that the container will listen on port 3000 at runtime. This does not actually publish the port; it serves as a documentation of the intended port usage.\n",
    "7. CMD [\"node\", \"app.js\"]: Specifies the command to run when the container starts. In this case, it runs the Node.js application using the app.js file as the entry point.\n",
    "\n"
   ]
  }
 ],
 "metadata": {
  "kernelspec": {
   "display_name": "Python 3",
   "language": "python",
   "name": "python3"
  },
  "language_info": {
   "codemirror_mode": {
    "name": "ipython",
    "version": 3
   },
   "file_extension": ".py",
   "mimetype": "text/x-python",
   "name": "python",
   "nbconvert_exporter": "python",
   "pygments_lexer": "ipython3",
   "version": "3.11.9"
  }
 },
 "nbformat": 4,
 "nbformat_minor": 2
}
