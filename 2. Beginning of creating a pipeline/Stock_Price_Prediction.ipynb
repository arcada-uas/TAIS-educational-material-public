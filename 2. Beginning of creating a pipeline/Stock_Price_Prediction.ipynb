{
  "cells": [
    {
      "cell_type": "code",
      "execution_count": 1,
      "metadata": {
        "id": "o9E3CBg-kxI4"
      },
      "outputs": [],
      "source": [
        "# Import necessary libraries\n",
        "import pandas as pd\n",
        "import numpy as np\n",
        "import matplotlib.pyplot as plt\n",
        "import matplotlib.dates as mdates\n",
        "from sklearn.model_selection import train_test_split\n",
        "from sklearn.linear_model import LinearRegression\n",
        "from sklearn.metrics import mean_squared_error"
      ]
    },
    {
      "cell_type": "code",
      "execution_count": null,
      "metadata": {
        "colab": {
          "base_uri": "https://localhost:8080/",
          "height": 177
        },
        "id": "T0aUwrcy_cCY",
        "outputId": "f8719994-4dc2-4e20-f924-b7a81a6f7a2b"
      },
      "outputs": [],
      "source": [
        "\n",
        "\n",
        "# Load the data\n",
        "data = pd.read_csv(\"MSFT.US.csv\")\n",
        "\n",
        "# Convert 'Date' column to datetime format\n",
        "data['Date'] = pd.to_datetime(data['Date'])\n",
        "\n",
        "# Display the first few rows of the data\n",
        "print(data.head())\n",
        "\n",
        "# Assume the column 'Close' is the target variable we want to predict\n",
        "# We will create a feature 'Previous_Close' which is the 'Close' value of the previous day\n",
        "data['Previous_Close'] = data['Close'].shift(1)\n",
        "\n",
        "# Drop the first row since it will have a NaN value in 'Previous_Close'\n",
        "data = data.dropna()\n",
        "\n",
        "# Define the feature and target variable\n",
        "X = data[['Previous_Close']]\n",
        "y = data['Close']\n",
        "dates = data['Date']\n",
        "\n",
        "# Split the data into training and testing sets\n",
        "X_train, X_test, y_train, y_test, dates_train, dates_test = train_test_split(X, y, dates, test_size=0.2, random_state=42, shuffle=False)"
      ]
    },
    {
      "cell_type": "code",
      "execution_count": null,
      "metadata": {
        "colab": {
          "base_uri": "https://localhost:8080/"
        },
        "id": "ppNz8q0r_gN0",
        "outputId": "0f2e1c8c-71db-4716-cb11-dfbc97f3f09f"
      },
      "outputs": [],
      "source": [
        "# Create and train the linear regression model\n",
        "model = LinearRegression()\n",
        "model.fit(X_train, y_train)\n",
        "\n",
        "# Make predictions\n",
        "y_pred = model.predict(X_test)\n",
        "print(y_pred)\n",
        "\n",
        "# Calculate RMSE\n",
        "rmse = np.sqrt(mean_squared_error(y_test, y_pred))\n",
        "print(f\"Root Mean Squared Error (RMSE): {rmse}\")"
      ]
    },
    {
      "cell_type": "code",
      "execution_count": null,
      "metadata": {
        "colab": {
          "base_uri": "https://localhost:8080/",
          "height": 616
        },
        "id": "2wQ5nfU9_k_5",
        "outputId": "8cd6a229-c0ad-4c21-8d15-91bf67f6ea85"
      },
      "outputs": [],
      "source": [
        "# Plot the results\n",
        "plt.figure(figsize=(14, 7))\n",
        "plt.plot(dates_test, y_test, label='Actual')\n",
        "plt.plot(dates_test, y_pred, label='Predicted')\n",
        "\n",
        "# Format the date on the x-axis\n",
        "plt.gca().xaxis.set_major_locator(mdates.DayLocator(interval=120))  # Set major ticks every 10 days\n",
        "plt.gca().xaxis.set_major_formatter(mdates.DateFormatter('%Y-%m-%d'))\n",
        "\n",
        "plt.gcf().autofmt_xdate()  # Rotate date labels vertically\n",
        "\n",
        "plt.xlabel('Date')\n",
        "plt.ylabel('Close Price')\n",
        "plt.title('MSFT Stock Price Prediction')\n",
        "plt.legend()\n",
        "plt.grid(True)\n",
        "plt.show()"
      ]
    }
  ],
  "metadata": {
    "colab": {
      "provenance": []
    },
    "kernelspec": {
      "display_name": "Python 3",
      "name": "python3"
    },
    "language_info": {
      "codemirror_mode": {
        "name": "ipython",
        "version": 3
      },
      "file_extension": ".py",
      "mimetype": "text/x-python",
      "name": "python",
      "nbconvert_exporter": "python",
      "pygments_lexer": "ipython3",
      "version": "3.11.9"
    }
  },
  "nbformat": 4,
  "nbformat_minor": 0
}
