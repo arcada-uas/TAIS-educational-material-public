{
 "cells": [
  {
   "cell_type": "markdown",
   "metadata": {},
   "source": [
    "# Introduction\n",
    "\n",
    "Now we have learned about and created the web applications for the components, as well as tested that they work as expected. Next we will move on to the next step which is to enable the components to communicate using grpc and protobuffers. This process can be a bit confusing as it includes a lot of steps, such as writing a protofile, generating the grpc code and writing the grpc server and client using the generated code. This process is also something that might be unknown to a lot of people. Therefor we have provided some basic information about protobuffers as well as grpc before jumping into the example. \n",
    "\n",
    "Make sure to read the materials carefully before proceeding to the example, as this will provide you with more insights into how protobuffers and grpc work, which might help you understand the example better.\n"
   ]
  }
 ],
 "metadata": {
  "language_info": {
   "name": "python"
  }
 },
 "nbformat": 4,
 "nbformat_minor": 2
}
