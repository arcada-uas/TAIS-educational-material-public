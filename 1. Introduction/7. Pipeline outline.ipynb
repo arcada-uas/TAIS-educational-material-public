{
 "cells": [
  {
   "cell_type": "markdown",
   "metadata": {},
   "source": [
    "# Creating a Pipeline\n",
    "\n",
    "In order to create a pipeline we have defined a few steps to successfully create all the necessary components and connect them. In order to complete these steps it is important that you have atleast a basic understanding of the different technologies and tools used and how they work. \n",
    "\n",
    "# 1. Identify the problem, Objectives and Deliverable items\n",
    "The first step to create a pipeline is to identify the problem, what you need the pipeline for. Once you have a clear understanding of the needs and requirements, it is easier to make a good decision on what components are necessary and how to implement them. By defining the problem and objectives clearly you should be able to identify the deliverable items. \n",
    "\n",
    "# 2. Create the outline of the pipeline\n",
    "Next you will need to clearly define how many components are needed and what each component should do. You should also decide on the required technologies, such as programming languages, for the components. \n",
    "\n",
    "# 3. Implementing the components\n",
    "The third step is to start implementing the components. We will cover the creation of components in a later chapter as this includes quite a few steps and tools. After defining a component it is important to test it carefully before trying to connect it to the other components, to ensure that the functionality has been implemented correctly and to simplify the debugging process once the components have been connected. \n",
    "\n",
    "# 4. Uploading the dockerimages\n",
    "Once you have ensured that all components work well both separatly and together on your local computer, you can containerize the applications and register then to Docker Hub. This step requires that you have defined the dockerfile for each of the components. \n",
    "\n",
    "# 5. Connect the components in AI builder\n",
    "When the components have been finalized and uploaded to Docker Hub you can use the AI builder platform to upload and connect the different components. This will create a deployable pipeline contained in a solution.zip file which will be provided by the platform to download. You will need to download the zip file in order to complete the following steps. "
   ]
  }
 ],
 "metadata": {
  "kernelspec": {
   "display_name": "Python 3",
   "language": "python",
   "name": "python3"
  },
  "language_info": {
   "name": "python",
   "version": "3.11.9"
  }
 },
 "nbformat": 4,
 "nbformat_minor": 2
}
