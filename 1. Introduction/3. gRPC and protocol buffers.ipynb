{
 "cells": [
  {
   "cell_type": "markdown",
   "metadata": {},
   "source": [
    "# gRPC and Protocol Buffers\n",
    "\n",
    "gRPC is a high-performance, open-source framework for remote procedure calls (RPCs) that allows client applications to call methods on server applications as if they were local, even when they are deployed on different machines. It is widely used for building distributed systems and microservices due to its efficiency, flexibility, and ease of use.\n",
    "\n",
    "With gRPC, services are split into a server and client. The server side hosts and implements the service methods defined in the .proto file and handles incoming requests from clients. The client utilizes stubs to interact with the remote procedure calls. The stub abstracts away the complexities of network communication and allows clients to invoke methods on the reote server as if they were local function calls. \n",
    "gRPC services can be defined in protofiles as discussed in the protocol buffers section. The protofile serves as the contact between the client and the server, ensuring both sides afee on the data structures and available methods. \n",
    "\n",
    "## Code generation\n",
    "\n",
    "Once the protofile is defined, it can be used with the protobuf compiler, protoc, to generate code for the client and the server as well as the defined datastructures. The generated code can generally be divided into three different groups, the service interface, client code and server code. The service interface is an interface or abstract class that defines the methods corresponding to the RPCs you specified in the protofile. The server code actually implements the server interface. The client code consists of a so called stub which provides methods for making requests to the server and handling responses. It abstracts away the the network communication and allows the client to use methods implemented by the server as if they were local. \n",
    "\n",
    "\n"
   ]
  }
 ],
 "metadata": {
  "kernelspec": {
   "display_name": "Python 3",
   "language": "python",
   "name": "python3"
  },
  "language_info": {
   "name": "python",
   "version": "3.11.9"
  }
 },
 "nbformat": 4,
 "nbformat_minor": 2
}
