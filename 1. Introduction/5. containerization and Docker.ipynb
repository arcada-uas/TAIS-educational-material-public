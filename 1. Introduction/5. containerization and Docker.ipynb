{
 "cells": [
  {
   "cell_type": "markdown",
   "metadata": {},
   "source": [
    "# Containerization\n",
    "\n",
    "In order to deploy our code to the AI builder platform and produce a solution.zip file, we need to containerize our service (or application)."
   ]
  },
  {
   "cell_type": "markdown",
   "metadata": {},
   "source": [
    "Containerization involves encapsulating an application and its dependencies into a self-contained unit called a container. This process begins by defining the application environment and specifying its dependencies, including libraries, frameworks, and runtime components.\n",
    "\n",
    "In the realm of containerization, Docker serves as a powerful tool for building, running, and managing containers across various environments, including servers and the cloud. Docker is a containerization platform that allows developers to package an application and its dependencies into a standardized unit called a container.\n",
    "\n",
    "Using Docker for containerization, developers create a Dockerfile or a similar configuration file that outlines the steps needed to build the container image. In this Dockerfile, developers specify the base image to use, copy the application code into the image, and configure any additional settings or dependencies required for the application to run.\n",
    "\n",
    "With Docker, you can use the Docker build command to build the container image based on the instructions provided in the Dockerfile. Docker provides a simple and efficient way to build, distribute, and run containerized applications, making it a popular choice for containerization.\n",
    "\n",
    "Let's take a look at a dockerfile:"
   ]
  },
  {
   "cell_type": "markdown",
   "metadata": {},
   "source": [
    "```Dockerfile\n",
    "# Use an official Node.js runtime as the base image\n",
    "FROM node:14\n",
    "\n",
    "# Set the working directory inside the container\n",
    "WORKDIR /app\n",
    "\n",
    "# Copy package.json and package-lock.json to the working directory\n",
    "COPY package*.json ./\n",
    "\n",
    "# Install dependencies using npm\n",
    "RUN npm install\n",
    "\n",
    "# Copy the rest of the application code to the working directory\n",
    "COPY . .\n",
    "\n",
    "# Expose port 3000 to the outside world\n",
    "EXPOSE 3000\n",
    "\n",
    "# Define the command to run the application when the container starts\n",
    "CMD [\"node\", \"app.js\"]\n"
   ]
  },
  {
   "cell_type": "markdown",
   "metadata": {},
   "source": [
    "Above you see a very simple dockerfile. Let's go through the different parts of the file.\n",
    "\n",
    "1. FROM node:14: Specifies the base image for the Dockerfile. In this case, it uses the official Node.js image from Docker Hub with Node.js version 14.\n",
    "2. WORKDIR /app: Sets the working directory inside the container where subsequent commands will be executed. It creates the /app directory if it doesn't exist.\n",
    "3. COPY package*.json ./: Copies the package.json and package-lock.json files from the host machine (where the Dockerfile is located) to the /app directory inside the container. This allows Docker to cache dependencies during the build process.\n",
    "4. RUN npm install: Runs the npm install command inside the container to install dependencies listed in package.json. This step is executed during the image build process.\n",
    "5. COPY . .: Copies the rest of the application code from the host machine to the /app directory inside the container. This includes source code, configuration files, and any other assets required by the application.\n",
    "6. EXPOSE 3000: Informs Docker that the container will listen on port 3000 at runtime. This does not actually publish the port; it serves as a documentation of the intended port usage.\n",
    "7. CMD [\"node\", \"app.js\"]: Specifies the command to run when the container starts. In this case, it runs the Node.js application using the app.js file as the entry point.\n",
    "\n"
   ]
  },
  {
   "cell_type": "markdown",
   "metadata": {},
   "source": [
    "## Exercise: Containerizing an app"
   ]
  },
  {
   "cell_type": "markdown",
   "metadata": {},
   "source": [
    "Before we can start building our own ML pipeline components and containerize them, let's look at a more simple example to get an understanding for how to containerize an app. \n",
    "\n",
    "First step in order to containerize our first app is to download docker. Follow the instructions on the docker download page according to your operating system \n",
    "\n",
    "docker desktop download page: https://docs.docker.com/get-docker/\n",
    "\n",
    "In order to containerize your application you need to create a dockerfile, and for running the app you need a compose.yaml file. \n",
    "\n",
    "In the folder \"1.5containerization_example\" you can find an example app that we are going to containerize. Here's a brief overview of the files in the folder:\n",
    "\n",
    "    package.json: This file manages installation of packages required by the app.\n",
    "\n",
    "    app.js: this file is a java script file and implements the application logic and routes. It contains the server code to start a web server using Express and serve the static HTML page.\n",
    "\n",
    "    index.html: This file provides the web page content.\n",
    "\n",
    "To create the dockerfile and the compose.yaml file we can use docker's built in command \"docker init\". This command has to be run in the project folder containing the app, so in our case it's the \"1.5containerization_example\" folder. When running this command docker will create all the necessary files for containerization. Follow these instructions:\n",
    "\n",
    "1. In the terminal, change to the 1.5containerization_example directory\n",
    "2. run the \"npm install\" command. This should generate a \"package-lock.json\" file which servers as a lockfile that captures the exact versions of packages and their dependencies.\n",
    "3. run the \"docker init\" command\n",
    "    This command will open the Docker Init CLI. You will be asked a few questions that you need to answer. Here are the questions and the necessaary answers:\n",
    "        \n",
    "    ? What application platform does your project use? Node\n",
    "\n",
    "    ? What version of Node do you want to use? {enter the version you have installed} \n",
    "\n",
    "    ? Which package manager do you want to use? npm\n",
    "\n",
    "    ? What command do you want to use to start the app? node app.js\n",
    "\n",
    "    ? What port does your server listen on? {for example 3000}\n",
    "    \n",
    "\n",
    "    After the command has finished, you should be able to see the dockerfile, the compose.yaml file, a README.Docker.md file and a .dockerignore file. These files have been generated for you\n",
    "\n",
    "4. If the docker init command finishes successfully you should now be able to run the containerized application. Run the command \"docker compose up --build\". You should now be able to view the app on the port you selected.\n",
    "\n",
    "Congratulations, you created your first containerized app!\n"
   ]
  }
 ],
 "metadata": {
  "kernelspec": {
   "display_name": "Python 3",
   "language": "python",
   "name": "python3"
  },
  "language_info": {
   "codemirror_mode": {
    "name": "ipython",
    "version": 3
   },
   "file_extension": ".py",
   "mimetype": "text/x-python",
   "name": "python",
   "nbconvert_exporter": "python",
   "pygments_lexer": "ipython3",
   "version": "3.11.9"
  }
 },
 "nbformat": 4,
 "nbformat_minor": 2
}
