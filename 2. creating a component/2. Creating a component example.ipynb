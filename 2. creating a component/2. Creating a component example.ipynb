{
 "cells": [
  {
   "cell_type": "markdown",
   "metadata": {},
   "source": [
    "#Example: How to create a component\n",
    "\n",
    "Now that we have the basic knowledge of the necessary technologies and the general instructions for creating a component, we are going to ive an example on how to actualy perform all the necessary steps and create the component. \n",
    "\n",
    "We are going to be using Flask for creating the web application for the microservice. Flask is a micro web framework written in Python. If you are not familiar with Flask or web frameworks, make sure to look through the documentation at https://flask.palletsprojects.com/en/3.0.x/.\n",
    "\n",
    "So let's start by getting familiar with Flask and making sure that we know how to run a web application. For this we can create a very simple webapplication, like a hello world application. This is covered in the flask documentation, so we won't describe the process in further detail. In the folder \"2.2creating_component_example\" you can find a file called app.py which contains a basic flask app. You can run the app using the command \"python app.py\" in the directory of the app file. \n"
   ]
  }
 ],
 "metadata": {
  "language_info": {
   "name": "python"
  }
 },
 "nbformat": 4,
 "nbformat_minor": 2
}
